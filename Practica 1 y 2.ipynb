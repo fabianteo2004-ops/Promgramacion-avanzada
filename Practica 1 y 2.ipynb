{
  "nbformat": 4,
  "nbformat_minor": 0,
  "metadata": {
    "colab": {
      "provenance": [],
      "authorship_tag": "ABX9TyNymkpI7vt7xXef3KzKG9vz",
      "include_colab_link": true
    },
    "kernelspec": {
      "name": "python3",
      "display_name": "Python 3"
    },
    "language_info": {
      "name": "python"
    }
  },
  "cells": [
    {
      "cell_type": "markdown",
      "metadata": {
        "id": "view-in-github",
        "colab_type": "text"
      },
      "source": [
        "<a href=\"https://colab.research.google.com/github/fabianteo2004-ops/Promgramacion-avanzada/blob/main/Practica%201%20y%202.ipynb\" target=\"_parent\"><img src=\"https://colab.research.google.com/assets/colab-badge.svg\" alt=\"Open In Colab\"/></a>"
      ]
    },
    {
      "cell_type": "code",
      "execution_count": null,
      "metadata": {
        "colab": {
          "base_uri": "https://localhost:8080/"
        },
        "id": "K1W44w7UhIpf",
        "outputId": "8bb0302b-e106-4caa-d040-938c7dae1e91"
      },
      "outputs": [
        {
          "output_type": "stream",
          "name": "stdout",
          "text": [
            "Cadena procesada: mi ****** de ***** es phoenix\n",
            "Palabras reemplazadas: 2\n"
          ]
        }
      ],
      "source": [
        "# -------------------------------------------------\n",
        "# Ejercicio 1: Procesar texto y reemplazar palabras\n",
        "# -------------------------------------------------\n",
        "\n",
        "def process_text(cadena_texto=None, lista_reemplazar=None):\n",
        "\n",
        "    if cadena_texto is None:\n",
        "        cadena_texto = \"  Mi nombre de heroe es Phoenix  \"\n",
        "    if lista_reemplazar is None:\n",
        "        lista_reemplazar = [\"nombre\", \"heroe\"]\n",
        "\n",
        "    cadena_texto = cadena_texto.lower()\n",
        "\n",
        "\n",
        "    cadena_texto = cadena_texto.strip()\n",
        "\n",
        "\n",
        "    palabras = cadena_texto.split()\n",
        "\n",
        "\n",
        "    contador = 0\n",
        "    for i in range(len(palabras)):\n",
        "        palabra_limpia = ''.join([c for c in palabras[i] if c.isalnum()])\n",
        "        if palabra_limpia in lista_reemplazar:\n",
        "            palabras[i] = \"*\" * len(palabras[i])\n",
        "            contador += 1\n",
        "\n",
        "\n",
        "    cadena_procesada = \" \".join(palabras)\n",
        "\n",
        "\n",
        "    return cadena_procesada, contador\n",
        "\n",
        "\n",
        "texto = \"Mi nombre de heroe es Phoenix\"\n",
        "palabras_a_reemplazar = [\"nombre\", \"heroe\"]\n",
        "\n",
        "resultado, cantidad = process_text(texto, palabras_a_reemplazar)\n",
        "\n",
        "print(\"Cadena procesada:\", resultado)\n",
        "print(\"Palabras reemplazadas:\", cantidad)\n",
        "\n"
      ]
    },
    {
      "cell_type": "code",
      "source": [
        "# ----------------------------------------\n",
        "# Ejercicio 2: Análisis de números primos\n",
        "# ---------------------------------------\n",
        "\n",
        "\n",
        "def is_prime(n):\n",
        "    if n <= 1:\n",
        "        return False\n",
        "    for i in range(2, int(n**0.5) + 1):\n",
        "        if n % i == 0:\n",
        "            return False\n",
        "    return True\n",
        "\n",
        "\n",
        "def prime_list(limit):\n",
        "\n",
        "    primos = []\n",
        "    for num in range(2, limit + 1):\n",
        "        if is_prime(num):\n",
        "            primos.append(num)\n",
        "    return primos\n",
        "\n",
        "\n",
        "def palindrome_primes(limit):\n",
        "\n",
        "    primos = prime_list(limit)\n",
        "    palindromos = [p for p in primos if str(p) == str(p)[::-1]]\n",
        "    return palindromos\n",
        "\n",
        "def categorize_primes(limit):\n",
        "\n",
        "    primos = prime_list(limit)\n",
        "    categorias = {\n",
        "        \"pequeños\": [p for p in primos if p < 10],\n",
        "        \"medianos\": [p for p in primos if 10 <= p < 100],\n",
        "        \"grandes\": [p for p in primos if p >= 100]\n",
        "    }\n",
        "    return categorias\n",
        "\n",
        "\n",
        "limite = 99\n",
        "\n",
        "print(\"Lista de números primos hasta\", limite, \":\\n\", prime_list(limite))\n",
        "print(\"\\n Números primos palíndromos:\\n\", palindrome_primes(limite))\n",
        "\n",
        "categorias = categorize_primes(limite)\n",
        "print(\"\\n Clasificación de primos:\")\n",
        "for tipo, lista in categorias.items():\n",
        "    print(f\"{tipo.capitalize()}: {lista}\")\n"
      ],
      "metadata": {
        "colab": {
          "base_uri": "https://localhost:8080/"
        },
        "id": "VCZlr0Ouotrq",
        "outputId": "887afbdc-bc7e-4c45-aa1f-3547ab9af7ad"
      },
      "execution_count": null,
      "outputs": [
        {
          "output_type": "stream",
          "name": "stdout",
          "text": [
            "Lista de números primos hasta 99 :\n",
            " [2, 3, 5, 7, 11, 13, 17, 19, 23, 29, 31, 37, 41, 43, 47, 53, 59, 61, 67, 71, 73, 79, 83, 89, 97]\n",
            "\n",
            " Números primos palíndromos:\n",
            " [2, 3, 5, 7, 11]\n",
            "\n",
            " Clasificación de primos:\n",
            "Pequeños: [2, 3, 5, 7]\n",
            "Medianos: [11, 13, 17, 19, 23, 29, 31, 37, 41, 43, 47, 53, 59, 61, 67, 71, 73, 79, 83, 89, 97]\n",
            "Grandes: []\n"
          ]
        }
      ]
    },
    {
      "cell_type": "code",
      "source": [
        "# ---------------------------------------------------------\n",
        "# Ejercicio 3: Operaciones con una lista de números enteros\n",
        "# ---------------------------------------------------------\n",
        "\n",
        "def suma_total(lista):\n",
        "    return sum(lista)\n",
        "\n",
        "def suma_pos_neg(lista):\n",
        "    suma_pos = sum(x for x in lista if x > 0)\n",
        "    suma_neg = sum(x for x in lista if x < 0)\n",
        "    return suma_pos, suma_neg\n",
        "\n",
        "def max_min(lista):\n",
        "    return max(lista), min(lista)\n",
        "\n",
        "def todos_unicos(lista):\n",
        "    return len(lista) == len(set(lista))\n",
        "\n",
        "def mas_positivos_o_negativos(lista):\n",
        "    positivos = sum(1 for x in lista if x > 0)\n",
        "    negativos = sum(1 for x in lista if x < 0)\n",
        "    if positivos > negativos:\n",
        "        return \"La lista contiene más números positivos.\"\n",
        "    elif negativos > positivos:\n",
        "        return \"La lista contiene más números negativos.\"\n",
        "    else:\n",
        "        return \"La lista tiene la misma cantidad de positivos y negativos.\"\n",
        "\n",
        "def main():\n",
        "    print(\" Código para analizar numeros enteros \\n\")\n",
        "\n",
        "    entrada = input(\" Ingresa una lista de números separados por comas (ej: 4, -2, 7, -1, 0): \")\n",
        "    lista = [int(x.strip()) for x in entrada.split(\",\")]\n",
        "\n",
        "    while True:\n",
        "        print(\"\\n---- MENÚ DE OPCIONES ----\")\n",
        "        print(\"1. Calcular la suma total de los números\")\n",
        "        print(\"2. Calcular la suma de positivos y negativos\")\n",
        "        print(\"3. Encontrar el número máximo y mínimo\")\n",
        "        print(\"4. Comprobar si todos los números son únicos\")\n",
        "        print(\"5. Determinar si hay más positivos o negativos\")\n",
        "        print(\"6. Salir\")\n",
        "\n",
        "        opcion = input(\"Selecciona una opción (1-6): \")\n",
        "\n",
        "        if opcion == \"1\":\n",
        "            print(\"Suma total:\", suma_total(lista))\n",
        "        elif opcion == \"2\":\n",
        "            pos, neg = suma_pos_neg(lista)\n",
        "            print(f\"Suma de positivos: {pos}, Suma de negativos: {neg}\")\n",
        "        elif opcion == \"3\":\n",
        "            mx, mn = max_min(lista)\n",
        "            print(f\"Máximo: {mx}, Mínimo: {mn}\")\n",
        "        elif opcion == \"4\":\n",
        "            print(\"Todos los números son únicos:\", todos_unicos(lista))\n",
        "        elif opcion == \"5\":\n",
        "            print(\"\", mas_positivos_o_negativos(lista))\n",
        "        elif opcion == \"6\":\n",
        "            print(\"Saliendo del código... ¡Hasta luego!\")\n",
        "            break\n",
        "        else:\n",
        "            print(\"⚠️ Opción no válida. Inténtalo de nuevo.\")\n",
        "main()\n"
      ],
      "metadata": {
        "colab": {
          "base_uri": "https://localhost:8080/"
        },
        "id": "WkFge1BYsjxw",
        "outputId": "24db0dbd-3cde-4131-f3a9-38d43ae221e8"
      },
      "execution_count": null,
      "outputs": [
        {
          "output_type": "stream",
          "name": "stdout",
          "text": [
            " Código para analizar numeros enteros \n",
            "\n"
          ]
        }
      ]
    }
  ]
}